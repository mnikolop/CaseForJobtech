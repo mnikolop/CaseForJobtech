{
 "cells": [
  {
   "cell_type": "code",
   "execution_count": 1,
   "metadata": {},
   "outputs": [],
   "source": [
    "# load needed libraries\n",
    "import pandas as pd \n",
    "import numpy as np"
   ]
  },
  {
   "cell_type": "code",
   "execution_count": 10,
   "metadata": {},
   "outputs": [
    {
     "name": "stdout",
     "output_type": "stream",
     "text": [
      "Enter size of matrix (2 dimentions): 10 10\n",
      "10 10\n",
      "Enter start point coordinates: 2 2\n",
      "2 2\n",
      "Enter end point coordinates: 6 6\n",
      "6 6\n"
     ]
    }
   ],
   "source": [
    "# Get dimentions of matrix and coordinates of start and exit point (optional but used in this solution)\n",
    "(x, y) = map(int, input(\"Enter size of matrix (2 dimentions): \").split())\n",
    "print(x, y)\n",
    "(Sx, Sy) = map(int, input(\"Enter start point coordinates: \").split())\n",
    "print(Sx, Sy)\n",
    "(Ex, Ey) = map(int, input(\"Enter end point coordinates: \").split())\n",
    "print(Ex, Ey)\n",
    "# this solution does not take into account cases where the user gives out of bounds positions\n"
   ]
  },
  {
   "cell_type": "code",
   "execution_count": 18,
   "metadata": {},
   "outputs": [
    {
     "name": "stdout",
     "output_type": "stream",
     "text": [
      "   0  1  2  3  4  5  6  7  8  9\n",
      "0  1  0  1  1  1  1  0  0  0  1\n",
      "1  0  1  1  1  0  1  0  0  0  0\n",
      "2  0  0  s  1  0  0  1  1  1  0\n",
      "3  1  0  0  1  1  0  0  0  0  1\n",
      "4  0  0  0  1  0  1  1  0  1  0\n",
      "5  0  1  0  0  1  1  0  1  0  1\n",
      "6  0  1  0  1  1  0  e  1  0  0\n",
      "7  0  1  1  1  1  0  1  1  0  0\n",
      "8  0  0  0  1  0  0  1  1  1  1\n",
      "9  1  0  1  1  0  0  0  0  0  0\n",
      "There is an inpenetrable wall in your matrix. That might cause surtain paths to be unsolvable.\n",
      "One or both of your start and end points are surounded by walls. This makes your maze unsolvable.\n"
     ]
    }
   ],
   "source": [
    "# Generate a matrix with given dimensions and a random distribution of f and t \n",
    "matrix = pd.DataFrame(np.random.choice(a = [False, True], size = (x, y))) \n",
    "# Turn the false into -1 \n",
    "matrix = matrix.mask(matrix == True, 1)\n",
    "matrix = matrix.mask(matrix == False, 0)\n",
    "\n",
    "# Turn the exit/start point to e/s \n",
    "matrix.iloc[Ex, Ey] = \"e\"\n",
    "matrix.iloc[Sx, Sy] = \"s\"\n",
    "print(matrix)\n",
    "\n",
    "# Creat grid tightly wraped arounf the start and exit points\n",
    "if Ex<Sx and  Ey<Sy: grid = matrix.iloc[Ex:Sx+1, Ey:Sy+1]\n",
    "if Ex>Sx and  Ey>Sy: grid = matrix.iloc[Sx:Ex+1, Sy:Ey+1]\n",
    "if Ex<Sx and  Ey>Sy: grid = matrix.iloc[Ex:Sx+1, Sy:Ey+1]\n",
    "if Ex>Sx and  Ey<Sy: grid = matrix.iloc[Sx:Ex+1, Ey:Sy+1]\n",
    "\n",
    "\n",
    "# If a whole like or row is -1 return that our complexity is O(xy)\n",
    "# check if the sum of the row plus the size of the \n",
    "if ((grid.sum(axis = 0, skipna = True)) == 0).any() or ((grid.sum(axis = 1, skipna = True)) == 0).any():\n",
    "    # It also checks the edges which is not needed    \n",
    "    # While checking for this posibility, no actions are taken for it in this solution.\n",
    "    print(\"There is an inpenetrable wall in your matrix. That might cause surtain paths to be unsolvable.\")\n",
    "     \n",
    "    # Check if any of the start or and points are surounded by -1 \n",
    "    if all(grid.loc[Ex-1:Ex+1, Ey-1:Ey+1] == 0) or all(grid.loc[Sx-1:Sx+1, Sy-1:Sy+1] == 0):\n",
    "#         It has an issue and even if we were not serounded we would get a warning for blocked off staring/ending points \n",
    "        print(\"One or both of your start and end points are surounded by walls. This makes your maze unsolvable.\")\n",
    "#     starting from the end, and till you reach the start, do the neighbors and replace all the 0 with what you have now +1"
   ]
  },
  {
   "cell_type": "code",
   "execution_count": 19,
   "metadata": {},
   "outputs": [
    {
     "name": "stdout",
     "output_type": "stream",
     "text": [
      "the exit was reached in 5 steps\n",
      "   2  3  4  5  6\n",
      "2  s  1  2  3  1\n",
      "3  1  1  1  3  4\n",
      "4  0  1  5  1  1\n",
      "5  0  0  1  1  5\n",
      "6  0  1  1  5  e\n"
     ]
    }
   ],
   "source": [
    "# Check the relative location of start and exit to \n",
    "if Ex<Sx and  Ey<Sy: xAxis = -1; yAxis = -1; #print(xAxis, yAxis)\n",
    "if Ex>Sx and  Ey>Sy: xAxis = 1; yAxis = 1; #print(xAxis, yAxis)\n",
    "if Ex<Sx and  Ey>Sy: xAxis = -1; yAxis = 1; #print(xAxis, yAxis)\n",
    "if Ex>Sx and  Ey<Sy: xAxis = 1; yAxis = -1; #print(xAxis, yAxis)\n",
    "\n",
    "# create the ranges for the iterators of the grid\n",
    "xRange = iter(range(Sx, Ex, xAxis))\n",
    "yRange = iter(range(Sy, Ey, yAxis))\n",
    "\n",
    "steps = 1 # steps from the start to the exit\n",
    "(i,j) = (Sx, Sy) #start the iterators at the start\n",
    "\n",
    "for i in xRange: # for all the lines\n",
    "#     print('s',i, j)\n",
    "    grid[grid.loc[i-1:i+1, j-1:j+1] == 0] = steps # if a neighbor is not a wall asign them the number of steps from the start\n",
    "    for j in yRange: # for all the lines\n",
    "#         print('l',i, j)\n",
    "        grid[grid.loc[i-1:i+1, j-1:j+1] == 0] = steps # if a neighbor is not a wall asign them the number of steps from the start\n",
    "        steps += 1 # increase the number of steps for the next iteration\n",
    "#         print(grid)\n",
    "#     print('w',i, j)\n",
    "\n",
    "print(\"the exit was reached in\", steps, \"steps\")\n",
    "print(grid)\n",
    "\n",
    "# if the neighbors of the cell you are on are 0 make tehm to steps+1\n",
    "# move towards the start"
   ]
  },
  {
   "cell_type": "code",
   "execution_count": null,
   "metadata": {},
   "outputs": [],
   "source": []
  },
  {
   "cell_type": "code",
   "execution_count": null,
   "metadata": {},
   "outputs": [],
   "source": []
  }
 ],
 "metadata": {
  "kernelspec": {
   "display_name": "Python 3",
   "language": "python",
   "name": "python3"
  },
  "language_info": {
   "codemirror_mode": {
    "name": "ipython",
    "version": 3
   },
   "file_extension": ".py",
   "mimetype": "text/x-python",
   "name": "python",
   "nbconvert_exporter": "python",
   "pygments_lexer": "ipython3",
   "version": "3.7.3"
  }
 },
 "nbformat": 4,
 "nbformat_minor": 2
}
