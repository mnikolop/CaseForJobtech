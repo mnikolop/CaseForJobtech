{
 "cells": [
  {
   "cell_type": "code",
   "execution_count": 1,
   "metadata": {},
   "outputs": [],
   "source": [
    "# load needed libraries\n",
    "import pandas as pd \n",
    "import numpy as np"
   ]
  },
  {
   "cell_type": "code",
   "execution_count": 4,
   "metadata": {},
   "outputs": [
    {
     "name": "stdout",
     "output_type": "stream",
     "text": [
      "Enter size of matrix (2 dimentions): 20 6\n",
      "20 6\n",
      "Enter start point coordinates: 2 3\n",
      "2 3\n",
      "Enter end point coordinates: 15 4\n",
      "15 4\n"
     ]
    }
   ],
   "source": [
    "# Get dimentions of matrix and coordinates of start and end point (optional but used in this solution)\n",
    "(x, y) = map(int, input(\"Enter size of matrix (2 dimentions): \").split())\n",
    "print(x, y)\n",
    "(Sx, Sy) = map(int, input(\"Enter start point coordinates: \").split())\n",
    "print(Sx, Sy)\n",
    "(Ex, Ey) = map(int, input(\"Enter end point coordinates: \").split())\n",
    "print(Ex, Ey)\n",
    "# I do not tak into account cases where the user gives out of bounds point in this case\n"
   ]
  },
  {
   "cell_type": "code",
   "execution_count": 7,
   "metadata": {},
   "outputs": [],
   "source": [
    "# Generate a matrix with given dimensions and a random distribution of f and t \n",
    "matrix = pd.DataFrame(np.random.choice(a = [False, True], size = (x, y))) \n",
    "# Turn the false into -1 \n",
    "matrix = matrix.mask(matrix == False, -1)\n",
    "matrix = matrix.mask(matrix == True, 0)\n",
    "# Turn the end point to 0 \n",
    "matrix.iloc[Ex, Ey] = \"e\"\n",
    "matrix.iloc[Sx, Sy] = \"s\"\n",
    "# print(matrix)\n",
    "\n",
    "if Ex<Sx and  Ey<Sy: grid = matrix.iloc[Ex:Sx+1, Ey:Sy+1]\n",
    "if Ex>Sx and  Ey>Sy: grid = matrix.iloc[Sx:Ex+1, Sy:Ey+1]\n",
    "if Ex<Sx and  Ey>Sy: grid = matrix.iloc[Ex:Sx+1, Sy:Ey+1]\n",
    "if Ex>Sx and  Ey<Sy: grid = matrix.iloc[Sx:Ex+1, Ey:Sy+1]\n",
    "# print(grid)\n",
    "\n",
    "\n",
    "# If a whole like or row is -1 return that our complexity is O(xy)\n",
    "# check if the sum of the row plus the size of the \n",
    "if ((grid.sum(axis = 0, skipna = True) + len(grid)) == 0).any() or ((grid.sum(axis = 1, skipna = True) + len(grid.columns) ) == 0).any():\n",
    "    # While checking for this posibility, no actions are taken for it in this solution.\n",
    "    print(\"There is an inpenetrable wall in your matrix. That might cause surtain paths to be unsolvable.\")\n",
    "    # Check if any of the start or and points are surounded by -1  \n",
    "    if (grid.loc[Ex-1:Ex+1, Ey-1:Ey+1] == -1).all() or (grid.loc[Sx-1:Sx+1, Sy-1:Sy+1] == -1).all():\n",
    "#         It has an issue and even if we cot here we would not get any warning for blocked off staring?ending points \n",
    "        print(\"One or both of your start and end points are surounded by walls. This makes your maze unsolvable.\")\n",
    "#     starting from the end, and till you reach the start, do the neighbors and replace all the 0 with what you have now +1"
   ]
  },
  {
   "cell_type": "code",
   "execution_count": 9,
   "metadata": {},
   "outputs": [
    {
     "name": "stdout",
     "output_type": "stream",
     "text": [
      "the exit was reached in 2 steps\n",
      "     3   4\n",
      "2    s  -1\n",
      "3    1  -1\n",
      "4   -1  -1\n",
      "5    2  -1\n",
      "6   -1  -1\n",
      "7   -1   2\n",
      "8    2  -1\n",
      "9   -1   2\n",
      "10   2   2\n",
      "11  -1  -1\n",
      "12   2   2\n",
      "13  -1  -1\n",
      "14  -1   2\n",
      "15  -1   e\n"
     ]
    }
   ],
   "source": [
    "if Ex<Sx and  Ey<Sy: xAxis = -1; yAxis = -1; #print(xAxis, yAxis)\n",
    "if Ex>Sx and  Ey>Sy: xAxis = 1; yAxis = 1; #print(xAxis, yAxis)\n",
    "if Ex<Sx and  Ey>Sy: xAxis = -1; yAxis = 1; #print(xAxis, yAxis)\n",
    "if Ex>Sx and  Ey<Sy: xAxis = 1; yAxis = -1; #print(xAxis, yAxis)\n",
    "\n",
    "xRange = iter(range(Sx, Ex, xAxis))\n",
    "yRange = iter(range(Sy, Ey, yAxis))\n",
    "steps = 1\n",
    "(i,j) = (Sx, Sy)\n",
    "\n",
    "for i in xRange:\n",
    "#     print('s',i, j)\n",
    "    grid[grid.loc[i-1:i+1, j-1:j+1] == 0] = steps\n",
    "    for j in yRange:\n",
    "#         print('l',i, j)\n",
    "        grid[grid.loc[i-1:i+1, j-1:j+1] == 0] = steps\n",
    "        steps += 1\n",
    "#         print(grid)\n",
    "#     print('w',i, j)\n",
    "\n",
    "print(\"the exit was reached in\", steps, \"steps\")\n",
    "print(grid)\n",
    "\n",
    "# if the neighbors of the cell you are on are 0 make tehm to steps+1\n",
    "# move towards the start"
   ]
  },
  {
   "cell_type": "code",
   "execution_count": null,
   "metadata": {},
   "outputs": [],
   "source": []
  },
  {
   "cell_type": "code",
   "execution_count": null,
   "metadata": {},
   "outputs": [],
   "source": []
  }
 ],
 "metadata": {
  "kernelspec": {
   "display_name": "Python 3",
   "language": "python",
   "name": "python3"
  },
  "language_info": {
   "codemirror_mode": {
    "name": "ipython",
    "version": 3
   },
   "file_extension": ".py",
   "mimetype": "text/x-python",
   "name": "python",
   "nbconvert_exporter": "python",
   "pygments_lexer": "ipython3",
   "version": "3.7.3"
  }
 },
 "nbformat": 4,
 "nbformat_minor": 2
}
