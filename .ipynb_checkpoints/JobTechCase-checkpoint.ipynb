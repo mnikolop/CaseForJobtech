{
 "cells": [
  {
   "cell_type": "code",
   "execution_count": 14,
   "metadata": {},
   "outputs": [],
   "source": [
    "import pandas as pd \n",
    "import numpy as np"
   ]
  },
  {
   "cell_type": "code",
   "execution_count": 21,
   "metadata": {},
   "outputs": [
    {
     "name": "stdout",
     "output_type": "stream",
     "text": [
      "Enter size of matrix (2 dimentions): 4 4\n",
      "4 4\n",
      "Enter start point coordinates: 1 1 \n",
      "1 1\n",
      "Enter end point coordinates: 3 3 \n",
      "3 3\n"
     ]
    }
   ],
   "source": [
    "# Get dimentions of matrix and coordinates of start and end point (optional but used in this solution)\n",
    "(x, y) = map(int, input(\"Enter size of matrix (2 dimentions): \").split())\n",
    "print(x, y)\n",
    "(Sx, Sy) = map(int, input(\"Enter start point coordinates: \").split())\n",
    "print(Sx, Sy)\n",
    "(Ex, Ey) = map(int, input(\"Enter end point coordinates: \").split())\n",
    "print(Ex, Ey)"
   ]
  },
  {
   "cell_type": "code",
   "execution_count": 33,
   "metadata": {},
   "outputs": [
    {
     "data": {
      "text/plain": [
       "array([[ True,  True, False, False],\n",
       "       [False, False, False, False],\n",
       "       [False,  True,  True,  True],\n",
       "       [ True,  True,  True, False]])"
      ]
     },
     "execution_count": 33,
     "metadata": {},
     "output_type": "execute_result"
    }
   ],
   "source": [
    "# Generate a matrix with given dimensions and a random distribution of f and t \n",
    "matrix = np.random.choice(a = [False, True], size = (x, y))\n",
    "matrix"
   ]
  },
  {
   "cell_type": "code",
   "execution_count": 34,
   "metadata": {},
   "outputs": [],
   "source": [
    "if np.all(matrix == matrix[0,:], axis = 0).any() or np.all(matrix == matrix[:,0], axis = 0).any():\n",
    "    print(\"there is an inpenetrable wall in your matrix \")"
   ]
  },
  {
   "cell_type": "code",
   "execution_count": null,
   "metadata": {},
   "outputs": [],
   "source": []
  },
  {
   "cell_type": "code",
   "execution_count": null,
   "metadata": {},
   "outputs": [],
   "source": []
  },
  {
   "cell_type": "code",
   "execution_count": null,
   "metadata": {},
   "outputs": [],
   "source": []
  }
 ],
 "metadata": {
  "kernelspec": {
   "display_name": "Python 3",
   "language": "python",
   "name": "python3"
  },
  "language_info": {
   "codemirror_mode": {
    "name": "ipython",
    "version": 3
   },
   "file_extension": ".py",
   "mimetype": "text/x-python",
   "name": "python",
   "nbconvert_exporter": "python",
   "pygments_lexer": "ipython3",
   "version": "3.7.3"
  }
 },
 "nbformat": 4,
 "nbformat_minor": 2
}
